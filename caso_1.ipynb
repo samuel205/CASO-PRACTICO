{
 "cells": [
  {
   "cell_type": "markdown",
   "metadata": {},
   "source": [
    "## CASO 1: AUTOS"
   ]
  },
  {
   "cell_type": "code",
   "execution_count": 1,
   "metadata": {},
   "outputs": [],
   "source": [
    "# Importar bibliotecas necesarias\n",
    "import pandas as pd\n",
    "import numpy as np\n",
    "from sklearn.model_selection import train_test_split\n",
    "from sklearn.preprocessing import StandardScaler, OneHotEncoder\n",
    "from sklearn.compose import ColumnTransformer\n",
    "from sklearn.pipeline import Pipeline\n",
    "from sklearn.linear_model import LinearRegression\n",
    "from sklearn.ensemble import RandomForestRegressor\n",
    "from sklearn.metrics import mean_squared_error, r2_score"
   ]
  },
  {
   "cell_type": "markdown",
   "metadata": {},
   "source": [
    "### Cargar los datos"
   ]
  },
  {
   "cell_type": "code",
   "execution_count": 5,
   "metadata": {},
   "outputs": [
    {
     "name": "stdout",
     "output_type": "stream",
     "text": [
      "<class 'pandas.core.frame.DataFrame'>\n",
      "RangeIndex: 392 entries, 0 to 391\n",
      "Data columns (total 8 columns):\n",
      " #   Column        Non-Null Count  Dtype  \n",
      "---  ------        --------------  -----  \n",
      " 0   cylinders     392 non-null    int64  \n",
      " 1   displacement  392 non-null    float64\n",
      " 2   horsepower    392 non-null    float64\n",
      " 3   weight        392 non-null    float64\n",
      " 4   acceleration  392 non-null    float64\n",
      " 5   model_year    392 non-null    int64  \n",
      " 6   origin        392 non-null    int64  \n",
      " 7   mpg           392 non-null    float64\n",
      "dtypes: float64(5), int64(3)\n",
      "memory usage: 24.6 KB\n",
      "None\n",
      "        cylinders  displacement  horsepower       weight  acceleration  \\\n",
      "count  392.000000    392.000000  392.000000   392.000000    392.000000   \n",
      "mean     5.471939    194.411990  104.469388  2977.584184     15.541327   \n",
      "std      1.705783    104.644004   38.491160   849.402560      2.758864   \n",
      "min      3.000000     68.000000   46.000000  1613.000000      8.000000   \n",
      "25%      4.000000    105.000000   75.000000  2225.250000     13.775000   \n",
      "50%      4.000000    151.000000   93.500000  2803.500000     15.500000   \n",
      "75%      8.000000    275.750000  126.000000  3614.750000     17.025000   \n",
      "max      8.000000    455.000000  230.000000  5140.000000     24.800000   \n",
      "\n",
      "       model_year      origin         mpg  \n",
      "count  392.000000  392.000000  392.000000  \n",
      "mean    75.979592    1.576531   23.445918  \n",
      "std      3.683737    0.805518    7.805007  \n",
      "min     70.000000    1.000000    9.000000  \n",
      "25%     73.000000    1.000000   17.000000  \n",
      "50%     76.000000    1.000000   22.750000  \n",
      "75%     79.000000    2.000000   29.000000  \n",
      "max     82.000000    3.000000   46.600000  \n"
     ]
    }
   ],
   "source": [
    "auto_data = pd.read_csv(\"auto.csv\", sep=',')\n",
    "\n",
    "# Exploración de los datos\n",
    "print(auto_data.info())\n",
    "print(auto_data.describe())"
   ]
  },
  {
   "cell_type": "code",
   "execution_count": 3,
   "metadata": {},
   "outputs": [],
   "source": [
    "# Preprocesamiento del input auto_data\n",
    "# Conversión de unidades de mpg a l/100KM\n",
    "auto_data['consumo_l_100km'] = 235.214 / auto_data['mpg']\n",
    "\n",
    "# Separar las características (X) y la variable objetivo (y)\n",
    "X = auto_data.drop(columns=['mpg', 'consumo_l_100km'])\n",
    "y = auto_data['mpg']\n",
    "\n",
    "\n",
    "# Identificar variables categóricas y numéricas\n",
    "cat_features = ['origin'] \n",
    "num_features = list(set(X.columns) - set(cat_features))\n",
    "\n",
    "\n",
    "# Crear un pipeline para preprocesar las variables\n",
    "preprocessor = ColumnTransformer(\n",
    "    transformers=[\n",
    "        ('num', StandardScaler(), num_features),\n",
    "        ('cat', OneHotEncoder(), cat_features)\n",
    "    ]\n",
    ")\n",
    "\n",
    "\n",
    "# Dividir los datos\n",
    "X_train, X_test, y_train, y_test = train_test_split(X, y, test_size=0.2, random_state=42)\n",
    "\n",
    "# Crear pipelines para diferentes modelos\n",
    "linear_model = Pipeline(steps=[\n",
    "    ('preprocessor', preprocessor),\n",
    "    ('regressor', LinearRegression())\n",
    "])\n",
    "\n",
    "rf_model = Pipeline(steps=[\n",
    "    ('preprocessor', preprocessor),\n",
    "    ('regressor', RandomForestRegressor(random_state=42))\n",
    "])\n"
   ]
  },
  {
   "cell_type": "code",
   "execution_count": 4,
   "metadata": {},
   "outputs": [
    {
     "name": "stdout",
     "output_type": "stream",
     "text": [
      "Linear Regression:\n",
      "R2 Score: 0.7922774714022582\n",
      "RMSE: 3.2561140968473996\n",
      "\n",
      "Random Forest:\n",
      "R2 Score: 0.8876268222741278\n",
      "RMSE: 2.3949097126291776\n",
      "\n"
     ]
    }
   ],
   "source": [
    "# Entrenar y evaluar los modelos\n",
    "models = {'Linear Regression': linear_model, 'Random Forest': rf_model}\n",
    "\n",
    "for name, model in models.items():\n",
    "    model.fit(X_train, y_train)\n",
    "    y_pred = model.predict(X_test)\n",
    "    print(f\"{name}:\")\n",
    "    print(f\"R2 Score: {r2_score(y_test, y_pred)}\")\n",
    "    print(f\"RMSE: {np.sqrt(mean_squared_error(y_test, y_pred))}\\n\")"
   ]
  }
 ],
 "metadata": {
  "kernelspec": {
   "display_name": ".venv",
   "language": "python",
   "name": "python3"
  },
  "language_info": {
   "codemirror_mode": {
    "name": "ipython",
    "version": 3
   },
   "file_extension": ".py",
   "mimetype": "text/x-python",
   "name": "python",
   "nbconvert_exporter": "python",
   "pygments_lexer": "ipython3",
   "version": "3.9.10"
  }
 },
 "nbformat": 4,
 "nbformat_minor": 2
}
